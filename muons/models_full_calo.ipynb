{
 "cells": [
  {
   "cell_type": "markdown",
   "id": "469861ab",
   "metadata": {
    "jp-MarkdownHeadingCollapsed": true,
    "tags": []
   },
   "source": [
    "## Train Conditional Mean NN"
   ]
  },
  {
   "cell_type": "code",
   "execution_count": 2,
   "id": "729c597e",
   "metadata": {},
   "outputs": [],
   "source": [
    "from train_utils import train"
   ]
  },
  {
   "cell_type": "markdown",
   "id": "9a81233b",
   "metadata": {
    "jp-MarkdownHeadingCollapsed": true,
    "tags": []
   },
   "source": [
    "#### LOAD MODEL AND RESULTS - DRY RUN"
   ]
  },
  {
   "cell_type": "code",
   "execution_count": 4,
   "id": "8996aaf7",
   "metadata": {},
   "outputs": [],
   "source": [
    "import sys\n",
    "sys.path.append('./muon_regression_pkg/')\n",
    "\n",
    "from lumin.nn.models.model import Model\n",
    "import pickle\n",
    "import h5py"
   ]
  },
  {
   "cell_type": "code",
   "execution_count": 5,
   "id": "5b355300",
   "metadata": {},
   "outputs": [],
   "source": [
    "with open('./waldo_deep_muon/train_models/dry_run/dry_run_builder.pkl', 'rb') as f:\n",
    "    dry_model_builder = pickle.load(f)"
   ]
  },
  {
   "cell_type": "code",
   "execution_count": 6,
   "id": "0453a28e",
   "metadata": {
    "tags": []
   },
   "outputs": [],
   "source": [
    "dry_conditional_mean_nn = Model()\n",
    "dry_conditional_mean_nn = \\\n",
    "    dry_conditional_mean_nn.from_save(name='./waldo_deep_muon/train_models/dry_run/train_weights/model_id_0/best.h5', \n",
    "                                      model_builder=dry_model_builder)"
   ]
  },
  {
   "cell_type": "markdown",
   "id": "1bcc95f9",
   "metadata": {
    "jp-MarkdownHeadingCollapsed": true,
    "tags": []
   },
   "source": [
    "#### LOAD MODEL AND RESULTS - FULL RUN"
   ]
  },
  {
   "cell_type": "code",
   "execution_count": 1,
   "id": "715b2e8c",
   "metadata": {},
   "outputs": [],
   "source": [
    "import sys\n",
    "sys.path.append('./muon_regression_pkg/')\n",
    "\n",
    "from lumin.nn.models.model import Model\n",
    "import pickle\n",
    "import h5py"
   ]
  },
  {
   "cell_type": "code",
   "execution_count": 2,
   "id": "e6693482",
   "metadata": {},
   "outputs": [],
   "source": [
    "with open('./waldo_deep_muon/train_models/full_run/full_run_builder.pkl', 'rb') as f:\n",
    "    full_model_builder = pickle.load(f)"
   ]
  },
  {
   "cell_type": "code",
   "execution_count": 3,
   "id": "a0459cc0",
   "metadata": {
    "tags": []
   },
   "outputs": [],
   "source": [
    "full_conditional_mean_nn = Model()\n",
    "full_conditional_mean_nn = \\\n",
    "    full_conditional_mean_nn.from_save(name='./waldo_deep_muon/train_models/full_run/train_weights/model_id_0/best.h5', \n",
    "                                       model_builder=full_model_builder)"
   ]
  },
  {
   "cell_type": "markdown",
   "id": "f9249555-64cc-4477-93da-9d2ffd6df894",
   "metadata": {
    "jp-MarkdownHeadingCollapsed": true,
    "tags": []
   },
   "source": [
    "#### LOAD MODEL AND RESULTS - FULL RUN - MSE LOSS, NO DOWNWEIGHT"
   ]
  },
  {
   "cell_type": "code",
   "execution_count": 1,
   "id": "a94cabb8-bd3b-4dbe-b222-034d97de4b0d",
   "metadata": {},
   "outputs": [],
   "source": [
    "import sys\n",
    "sys.path.append('./muon_regression_pkg/')\n",
    "\n",
    "from lumin.nn.models.model import Model\n",
    "import pickle\n",
    "import h5py"
   ]
  },
  {
   "cell_type": "code",
   "execution_count": 2,
   "id": "f5cc8b5c-1859-496c-b921-fac1b716f4d6",
   "metadata": {},
   "outputs": [],
   "source": [
    "with open('./waldo_deep_muon/train_models/full_run_mean_mse_noweight/full_run_mean_mse_noweight_builder.pkl', 'rb') as f:\n",
    "    full_model_builder_mse_noweight = pickle.load(f)"
   ]
  },
  {
   "cell_type": "code",
   "execution_count": 3,
   "id": "250efef4-0ffe-432e-83e2-93aeb13561df",
   "metadata": {
    "tags": []
   },
   "outputs": [],
   "source": [
    "full_conditional_mean_nn_mse_noweight = Model()\n",
    "full_conditional_mean_nn_mse_noweight = \\\n",
    "    full_conditional_mean_nn_mse_noweight.from_save(name='./waldo_deep_muon/train_models/full_run_mean_mse_noweight/train_weights/model_id_0/best.h5', \n",
    "                                                    model_builder=full_model_builder_mse_noweight)"
   ]
  },
  {
   "cell_type": "markdown",
   "id": "2861e061",
   "metadata": {
    "jp-MarkdownHeadingCollapsed": true,
    "tags": []
   },
   "source": [
    "## Train Conditional Var NN"
   ]
  },
  {
   "cell_type": "code",
   "execution_count": 1,
   "id": "10ee4cea",
   "metadata": {},
   "outputs": [],
   "source": [
    "import numpy as np\n",
    "from lumin.nn.data.fold_yielder import FoldYielder\n",
    "from muons_utils import conditional_var_response\n",
    "import matplotlib.pyplot as plt"
   ]
  },
  {
   "cell_type": "code",
   "execution_count": 2,
   "id": "ab95590b",
   "metadata": {},
   "outputs": [],
   "source": [
    "training_stats_mean = FoldYielder(foldfile='./data/training_stats.hdf5')"
   ]
  },
  {
   "cell_type": "code",
   "execution_count": 6,
   "id": "caee7233-b4e9-40f9-8cda-5e0d9b6aab33",
   "metadata": {},
   "outputs": [],
   "source": [
    "training_stats_mean.close()"
   ]
  },
  {
   "cell_type": "markdown",
   "id": "6bf1504b",
   "metadata": {
    "jp-MarkdownHeadingCollapsed": true,
    "tags": []
   },
   "source": [
    "#### COMPUTE TARGET"
   ]
  },
  {
   "cell_type": "markdown",
   "id": "26bdc89c",
   "metadata": {},
   "source": [
    "Predictions"
   ]
  },
  {
   "cell_type": "code",
   "execution_count": 6,
   "id": "1c2e0335",
   "metadata": {},
   "outputs": [
    {
     "data": {
      "text/html": [
       "\n",
       "    <div>\n",
       "        <style>\n",
       "            /* Turns off some styling */\n",
       "            progress {\n",
       "                /* gets rid of default border in Firefox and Opera. */\n",
       "                border: none;\n",
       "                /* Needs to be in here for Safari polyfill so background images work as expected. */\n",
       "                background-size: auto;\n",
       "            }\n",
       "            .progress-bar-interrupted, .progress-bar-interrupted::-webkit-progress-bar {\n",
       "                background: #F44336;\n",
       "            }\n",
       "        </style>\n",
       "      <progress value='27' class='' max='27', style='width:300px; height:20px; vertical-align: middle;'></progress>\n",
       "      100.00% [27/27 1:25:30<00:00]\n",
       "    </div>\n",
       "    "
      ],
      "text/plain": [
       "<IPython.core.display.HTML object>"
      ]
     },
     "metadata": {},
     "output_type": "display_data"
    }
   ],
   "source": [
    "full_conditional_mean_nn_mse_noweight.predict(inputs=training_stats_mean, pred_name='cond_mean')\n",
    "training_stats_mean.close()"
   ]
  },
  {
   "cell_type": "code",
   "execution_count": 10,
   "id": "32d8cabe",
   "metadata": {},
   "outputs": [
    {
     "data": {
      "text/plain": [
       "array([[5849.1313, 4948.537 ],\n",
       "       [5027.986 , 6543.984 ],\n",
       "       [6143.071 , 6817.3438],\n",
       "       ...,\n",
       "       [6024.7095, 7893.877 ],\n",
       "       [3844.9253, 6887.423 ],\n",
       "       [5611.068 , 3421.1262]], dtype=float32)"
      ]
     },
     "execution_count": 10,
     "metadata": {},
     "output_type": "execute_result"
    }
   ],
   "source": [
    "np.hstack((\n",
    "    training_stats_mean.foldfile['fold_21']['cond_mean'][()].reshape(-1,1),\n",
    "    training_stats_mean.foldfile['fold_21']['targets'][()].reshape(-1,1)\n",
    "))"
   ]
  },
  {
   "cell_type": "markdown",
   "id": "7fb2e2f7",
   "metadata": {},
   "source": [
    "Compute response - Make sure to re-init training_stats_var.hdf5 to training_stats.hdf5 so that the original target is muon energy"
   ]
  },
  {
   "cell_type": "code",
   "execution_count": 3,
   "id": "924be973",
   "metadata": {},
   "outputs": [],
   "source": [
    "training_stats_var = FoldYielder(foldfile='/home/azureuser/lmassera/data/training_stats_var.hdf5')"
   ]
  },
  {
   "cell_type": "code",
   "execution_count": 4,
   "id": "da45f53f",
   "metadata": {},
   "outputs": [],
   "source": [
    "conditional_var_response(fy_cond_mean=training_stats_mean, fy_cond_var=training_stats_var, pred_name='cond_mean', return_fy=False)"
   ]
  },
  {
   "cell_type": "code",
   "execution_count": 7,
   "id": "01d01852",
   "metadata": {},
   "outputs": [],
   "source": [
    "training_stats_var.close()"
   ]
  },
  {
   "cell_type": "markdown",
   "id": "19fab23f",
   "metadata": {
    "jp-MarkdownHeadingCollapsed": true,
    "tags": []
   },
   "source": [
    "#### LOAD MODEL AND RESULTS - FULL RUN - ReLU"
   ]
  },
  {
   "cell_type": "code",
   "execution_count": 9,
   "id": "e5296361",
   "metadata": {},
   "outputs": [],
   "source": [
    "import sys\n",
    "sys.path.append('/home/azureuser/lmassera/muon_regression_pkg/')\n",
    "\n",
    "from lumin.nn.models.model import Model\n",
    "import pickle\n",
    "import h5py"
   ]
  },
  {
   "cell_type": "code",
   "execution_count": 12,
   "id": "0b64afc3",
   "metadata": {},
   "outputs": [],
   "source": [
    "with open('/home/azureuser/lmassera/results_nn_muons/waldo_deep_muon/train_models/full_var_mse/full_var_mse_builder.pkl', 'rb') as f:\n",
    "    full_model_builder_var_mse = pickle.load(f)"
   ]
  },
  {
   "cell_type": "code",
   "execution_count": 13,
   "id": "303e41e2",
   "metadata": {
    "tags": []
   },
   "outputs": [],
   "source": [
    "full_conditional_var_nn = Model()\n",
    "full_conditional_var_nn = \\\n",
    "    full_conditional_var_nn.from_save(name='/home/azureuser/lmassera/results_nn_muons/waldo_deep_muon/train_models/full_var_mse/train_weights/model_id_0/best.h5', \n",
    "                                      model_builder=full_model_builder_var_mse)"
   ]
  },
  {
   "cell_type": "code",
   "execution_count": 15,
   "id": "607daa43-de34-470a-b16d-b258240c4e31",
   "metadata": {},
   "outputs": [
    {
     "data": {
      "text/plain": [
       "VarTail(\n",
       "  (dense): Linear(in_features=80, out_features=1, bias=True)\n",
       "  (act): ReLU()\n",
       ")"
      ]
     },
     "execution_count": 15,
     "metadata": {},
     "output_type": "execute_result"
    }
   ],
   "source": [
    "full_conditional_var_nn.tail"
   ]
  },
  {
   "cell_type": "markdown",
   "id": "d85c3076-45e5-42a9-a56d-9e07fae59516",
   "metadata": {
    "jp-MarkdownHeadingCollapsed": true,
    "tags": []
   },
   "source": [
    "#### LOAD MODEL AND RESULTS - FULL RUN - Linear"
   ]
  },
  {
   "cell_type": "code",
   "execution_count": null,
   "id": "d47a0c11-fb0a-4ecd-9e52-bd1763aa2ba3",
   "metadata": {},
   "outputs": [],
   "source": [
    "import sys\n",
    "sys.path.append('/home/azureuser/lmassera/muon_regression_pkg/')\n",
    "\n",
    "from lumin.nn.models.model import Model\n",
    "import pickle\n",
    "import h5py"
   ]
  },
  {
   "cell_type": "code",
   "execution_count": null,
   "id": "4a929d0f-48bb-487a-ae0d-b3188d1b6129",
   "metadata": {},
   "outputs": [],
   "source": [
    "with open('/home/azureuser/lmassera/results_nn_muons/waldo_deep_muon/train_models/full_var_mse_out_lin/full_var_mse_out_lin_builder.pkl', 'rb') as f:\n",
    "    full_model_builder_var_mse_lin = pickle.load(f)"
   ]
  },
  {
   "cell_type": "code",
   "execution_count": null,
   "id": "8ec5a9b4-585c-4c59-856f-aad228093e4f",
   "metadata": {
    "tags": []
   },
   "outputs": [],
   "source": [
    "full_conditional_var_nn_lin = Model()\n",
    "full_conditional_var_nn_lin = \\\n",
    "    full_conditional_var_nn_lin.from_save(name='/home/azureuser/lmassera/results_nn_muons/waldo_deep_muon/train_models/full_var_mse_out_lin/train_weights/model_id_0/best.h5', \n",
    "                                          model_builder=full_model_builder_var_mse_lin)"
   ]
  },
  {
   "cell_type": "code",
   "execution_count": null,
   "id": "554a711c-62e0-403e-9577-5ceebc81ff27",
   "metadata": {},
   "outputs": [],
   "source": [
    "full_conditional_var_nn_lin.tail"
   ]
  },
  {
   "cell_type": "markdown",
   "id": "24e5a84c-356a-4a1e-8b7c-041723365ab6",
   "metadata": {
    "jp-MarkdownHeadingCollapsed": true,
    "tags": []
   },
   "source": [
    "#### LOAD MODEL AND RESULTS - FULL RUN - Linear, Dropout=0.5"
   ]
  },
  {
   "cell_type": "code",
   "execution_count": 3,
   "id": "966a32d6-bc74-464a-a4a3-fefcb62fcaf8",
   "metadata": {},
   "outputs": [],
   "source": [
    "import sys\n",
    "sys.path.append('/home/azureuser/lmassera/muon_regression_pkg/')\n",
    "\n",
    "from lumin.nn.models.model import Model\n",
    "import pickle\n",
    "import h5py"
   ]
  },
  {
   "cell_type": "code",
   "execution_count": 4,
   "id": "bd68f1ed-30f3-48d8-983e-e0da1b880612",
   "metadata": {},
   "outputs": [],
   "source": [
    "with open('/home/azureuser/lmassera/results_nn_muons/waldo_deep_muon/train_models/full_var_mse_out_lin_do/full_var_mse_out_lin_do_builder.pkl', 'rb') as f:\n",
    "    full_model_builder_var_mse_lin_do = pickle.load(f)"
   ]
  },
  {
   "cell_type": "code",
   "execution_count": 5,
   "id": "b2b7187b-395c-4c97-ad22-14a2f9f7f830",
   "metadata": {
    "tags": []
   },
   "outputs": [],
   "source": [
    "full_conditional_var_nn_lin_do = Model()\n",
    "full_conditional_var_nn_lin_do = \\\n",
    "    full_conditional_var_nn_lin_do.from_save(name='/home/azureuser/lmassera/results_nn_muons/waldo_deep_muon/train_models/full_var_mse_out_lin_do/train_weights/model_id_0/best.h5', \n",
    "                                             model_builder=full_model_builder_var_mse_lin_do)"
   ]
  },
  {
   "cell_type": "code",
   "execution_count": 7,
   "id": "a01f29ea-c2fb-43c1-952c-0c5d8877af08",
   "metadata": {},
   "outputs": [
    {
     "data": {
      "text/plain": [
       "FullyConnected(\n",
       "  (layers): Sequential(\n",
       "    (0): Sequential(\n",
       "      (0): Linear(in_features=126, out_features=80, bias=True)\n",
       "      (1): Swish()\n",
       "      (2): Dropout(p=0.5, inplace=False)\n",
       "    )\n",
       "    (1): Sequential(\n",
       "      (0): Linear(in_features=80, out_features=80, bias=True)\n",
       "      (1): Swish()\n",
       "      (2): Dropout(p=0.5, inplace=False)\n",
       "    )\n",
       "    (2): Sequential(\n",
       "      (0): Linear(in_features=80, out_features=80, bias=True)\n",
       "      (1): Swish()\n",
       "      (2): Dropout(p=0.5, inplace=False)\n",
       "    )\n",
       "  )\n",
       ")"
      ]
     },
     "execution_count": 7,
     "metadata": {},
     "output_type": "execute_result"
    }
   ],
   "source": [
    "full_conditional_var_nn_lin_do.body"
   ]
  },
  {
   "cell_type": "markdown",
   "id": "1a8a74f2-6c6d-4e33-92f1-b40b9f2a5756",
   "metadata": {
    "jp-MarkdownHeadingCollapsed": true,
    "tags": []
   },
   "source": [
    "#### LOAD MODEL AND RESULTS - FULL RUN - Linear - meanMSEnoWeight"
   ]
  },
  {
   "cell_type": "code",
   "execution_count": 4,
   "id": "f62b58fe-f03f-447e-a3ca-f8b173e50c02",
   "metadata": {},
   "outputs": [],
   "source": [
    "import sys\n",
    "sys.path.append('/home/azureuser/lmassera/muon_regression_pkg/')\n",
    "\n",
    "from lumin.nn.models.model import Model\n",
    "import pickle\n",
    "import h5py"
   ]
  },
  {
   "cell_type": "code",
   "execution_count": 6,
   "id": "44ceb1d8-50a7-4102-ba3d-919b80e7db11",
   "metadata": {},
   "outputs": [],
   "source": [
    "with open('/home/azureuser/lmassera/results_nn_muons/waldo_deep_muon/train_models/full_var_mse_out_lin_meanMSEnoW/full_var_mse_out_lin_meanMSEnoW_builder.pkl', 'rb') as f:\n",
    "    full_model_builder_var_mse_out_lin_meanMSEnoW = pickle.load(f)"
   ]
  },
  {
   "cell_type": "code",
   "execution_count": 7,
   "id": "68f329a8-9206-4767-8bba-5d789bb922f4",
   "metadata": {
    "tags": []
   },
   "outputs": [],
   "source": [
    "full_conditional_var_nn_mse_out_lin_meanMSEnoW = Model()\n",
    "full_conditional_var_nn_mse_out_lin_meanMSEnoW = \\\n",
    "    full_conditional_var_nn_mse_out_lin_meanMSEnoW.from_save(name='/home/azureuser/lmassera/results_nn_muons/waldo_deep_muon/train_models/full_var_mse_out_lin_meanMSEnoW/train_weights/model_id_0/best.h5', \n",
    "                                          model_builder=full_model_builder_var_mse_out_lin_meanMSEnoW)"
   ]
  },
  {
   "cell_type": "code",
   "execution_count": 9,
   "id": "370d8bf4-9977-4c1e-ba3a-cadb765160f7",
   "metadata": {},
   "outputs": [
    {
     "data": {
      "text/plain": [
       "functools.partial(<class 'lumin.nn.losses.basic_weighted.WeightedMSE'>)"
      ]
     },
     "execution_count": 9,
     "metadata": {},
     "output_type": "execute_result"
    }
   ],
   "source": [
    "full_conditional_var_nn_mse_out_lin_meanMSEnoW.loss"
   ]
  },
  {
   "cell_type": "markdown",
   "id": "37804166",
   "metadata": {
    "jp-MarkdownHeadingCollapsed": true,
    "tags": []
   },
   "source": [
    "## Compute Predictions for Quantile Regression and Observations"
   ]
  },
  {
   "cell_type": "code",
   "execution_count": 10,
   "id": "97961db2",
   "metadata": {},
   "outputs": [],
   "source": [
    "from lumin.nn.data.fold_yielder import FoldYielder"
   ]
  },
  {
   "cell_type": "code",
   "execution_count": 11,
   "id": "aae5ea6c",
   "metadata": {},
   "outputs": [
    {
     "data": {
      "text/plain": [
       "<KeysViewHDF5 ['fold_1', 'fold_10', 'fold_11', 'fold_12', 'fold_13', 'fold_14', 'fold_15', 'fold_16', 'fold_17', 'meta_data']>"
      ]
     },
     "execution_count": 11,
     "metadata": {},
     "output_type": "execute_result"
    }
   ],
   "source": [
    "training_cutoffs = FoldYielder(foldfile='./data/training_cutoffs.hdf5')\n",
    "training_cutoffs.foldfile.keys()"
   ]
  },
  {
   "cell_type": "code",
   "execution_count": 3,
   "id": "9ba7af01",
   "metadata": {},
   "outputs": [
    {
     "data": {
      "text/plain": [
       "<KeysViewHDF5 ['fold_0', 'fold_1', 'fold_10', 'fold_11', 'fold_12', 'fold_13', 'fold_14', 'fold_15', 'fold_16', 'fold_17', 'fold_2', 'fold_3', 'fold_4', 'fold_5', 'fold_6', 'fold_7', 'fold_8', 'fold_9', 'meta_data']>"
      ]
     },
     "execution_count": 3,
     "metadata": {},
     "output_type": "execute_result"
    }
   ],
   "source": [
    "observations = FoldYielder(foldfile='./data/testing.hdf5')\n",
    "observations.foldfile.keys()"
   ]
  },
  {
   "cell_type": "markdown",
   "id": "b6a32918",
   "metadata": {
    "jp-MarkdownHeadingCollapsed": true,
    "tags": []
   },
   "source": [
    "#### QUANTILE REGRESSION CONDITIONAL MEAN"
   ]
  },
  {
   "cell_type": "code",
   "execution_count": 12,
   "id": "5558df28",
   "metadata": {},
   "outputs": [
    {
     "data": {
      "text/html": [
       "\n",
       "    <div>\n",
       "        <style>\n",
       "            /* Turns off some styling */\n",
       "            progress {\n",
       "                /* gets rid of default border in Firefox and Opera. */\n",
       "                border: none;\n",
       "                /* Needs to be in here for Safari polyfill so background images work as expected. */\n",
       "                background-size: auto;\n",
       "            }\n",
       "            .progress-bar-interrupted, .progress-bar-interrupted::-webkit-progress-bar {\n",
       "                background: #F44336;\n",
       "            }\n",
       "        </style>\n",
       "      <progress value='9' class='' max='9', style='width:300px; height:20px; vertical-align: middle;'></progress>\n",
       "      100.00% [9/9 30:37<00:00]\n",
       "    </div>\n",
       "    "
      ],
      "text/plain": [
       "<IPython.core.display.HTML object>"
      ]
     },
     "metadata": {},
     "output_type": "display_data"
    }
   ],
   "source": [
    "full_conditional_mean_nn_mse_noweight.predict(inputs=training_cutoffs, pred_name='quantreg_cond_mean')"
   ]
  },
  {
   "cell_type": "code",
   "execution_count": 44,
   "id": "dc0959ed",
   "metadata": {},
   "outputs": [],
   "source": [
    "training_cutoffs.close()"
   ]
  },
  {
   "cell_type": "markdown",
   "id": "258aee6b",
   "metadata": {
    "jp-MarkdownHeadingCollapsed": true,
    "tags": []
   },
   "source": [
    "#### QUANTILE REGRESSION CONDITIONAL VARIANCE"
   ]
  },
  {
   "cell_type": "markdown",
   "id": "82185353-f2bd-4c06-9ae6-49d212cd14c7",
   "metadata": {
    "jp-MarkdownHeadingCollapsed": true,
    "tags": []
   },
   "source": [
    "##### ReLU"
   ]
  },
  {
   "cell_type": "code",
   "execution_count": 10,
   "id": "8c1d513e",
   "metadata": {},
   "outputs": [
    {
     "data": {
      "text/html": [
       "\n",
       "    <div>\n",
       "        <style>\n",
       "            /* Turns off some styling */\n",
       "            progress {\n",
       "                /* gets rid of default border in Firefox and Opera. */\n",
       "                border: none;\n",
       "                /* Needs to be in here for Safari polyfill so background images work as expected. */\n",
       "                background-size: auto;\n",
       "            }\n",
       "            .progress-bar-interrupted, .progress-bar-interrupted::-webkit-progress-bar {\n",
       "                background: #F44336;\n",
       "            }\n",
       "        </style>\n",
       "      <progress value='9' class='' max='9', style='width:300px; height:20px; vertical-align: middle;'></progress>\n",
       "      100.00% [9/9 30:06<00:00]\n",
       "    </div>\n",
       "    "
      ],
      "text/plain": [
       "<IPython.core.display.HTML object>"
      ]
     },
     "metadata": {},
     "output_type": "display_data"
    }
   ],
   "source": [
    "full_conditional_var_nn.predict(inputs=training_cutoffs, pred_name='quantreg_cond_var')"
   ]
  },
  {
   "cell_type": "code",
   "execution_count": 39,
   "id": "d71d3f50",
   "metadata": {},
   "outputs": [],
   "source": [
    "training_cutoffs.close()"
   ]
  },
  {
   "cell_type": "markdown",
   "id": "4f99963a-d4b2-4f2d-9dd1-d9c36a7fbefc",
   "metadata": {
    "tags": []
   },
   "source": [
    "full_conditional_var_nn_mse_out_lin_meanMSEnoW"
   ]
  },
  {
   "cell_type": "code",
   "execution_count": 13,
   "id": "36fea6a7-7176-4cb5-b2b6-f14a3e68e67f",
   "metadata": {},
   "outputs": [
    {
     "data": {
      "text/html": [
       "\n",
       "    <div>\n",
       "        <style>\n",
       "            /* Turns off some styling */\n",
       "            progress {\n",
       "                /* gets rid of default border in Firefox and Opera. */\n",
       "                border: none;\n",
       "                /* Needs to be in here for Safari polyfill so background images work as expected. */\n",
       "                background-size: auto;\n",
       "            }\n",
       "            .progress-bar-interrupted, .progress-bar-interrupted::-webkit-progress-bar {\n",
       "                background: #F44336;\n",
       "            }\n",
       "        </style>\n",
       "      <progress value='9' class='' max='9', style='width:300px; height:20px; vertical-align: middle;'></progress>\n",
       "      100.00% [9/9 28:24<00:00]\n",
       "    </div>\n",
       "    "
      ],
      "text/plain": [
       "<IPython.core.display.HTML object>"
      ]
     },
     "metadata": {},
     "output_type": "display_data"
    }
   ],
   "source": [
    "full_conditional_var_nn_mse_out_lin_meanMSEnoW.predict(inputs=training_cutoffs, pred_name='quantreg_cond_var')"
   ]
  },
  {
   "cell_type": "code",
   "execution_count": null,
   "id": "024c4bc8-9b53-47fa-a736-6351edd8ff35",
   "metadata": {},
   "outputs": [],
   "source": [
    "training_cutoffs.close()"
   ]
  },
  {
   "cell_type": "markdown",
   "id": "618c5e00-949e-496c-9f77-11be3d985faf",
   "metadata": {
    "jp-MarkdownHeadingCollapsed": true,
    "tags": []
   },
   "source": [
    "##### Linear - Dropout=0.5"
   ]
  },
  {
   "cell_type": "code",
   "execution_count": 11,
   "id": "05781ee7-1fd5-401b-b706-21e8b5eaf6c6",
   "metadata": {},
   "outputs": [
    {
     "data": {
      "text/html": [
       "\n",
       "    <div>\n",
       "        <style>\n",
       "            /* Turns off some styling */\n",
       "            progress {\n",
       "                /* gets rid of default border in Firefox and Opera. */\n",
       "                border: none;\n",
       "                /* Needs to be in here for Safari polyfill so background images work as expected. */\n",
       "                background-size: auto;\n",
       "            }\n",
       "            .progress-bar-interrupted, .progress-bar-interrupted::-webkit-progress-bar {\n",
       "                background: #F44336;\n",
       "            }\n",
       "        </style>\n",
       "      <progress value='9' class='' max='9', style='width:300px; height:20px; vertical-align: middle;'></progress>\n",
       "      100.00% [9/9 28:43<00:00]\n",
       "    </div>\n",
       "    "
      ],
      "text/plain": [
       "<IPython.core.display.HTML object>"
      ]
     },
     "metadata": {},
     "output_type": "display_data"
    }
   ],
   "source": [
    "full_conditional_var_nn_lin_do.predict(inputs=training_cutoffs, pred_name='quantreg_cond_var')"
   ]
  },
  {
   "cell_type": "code",
   "execution_count": 12,
   "id": "e83f6606-4a90-4be6-87b7-abefd779e735",
   "metadata": {},
   "outputs": [],
   "source": [
    "training_cutoffs.close()"
   ]
  },
  {
   "cell_type": "markdown",
   "id": "970cf5ad",
   "metadata": {
    "jp-MarkdownHeadingCollapsed": true,
    "tags": []
   },
   "source": [
    "#### OBSERVATIONS CONDITIONAL MEAN"
   ]
  },
  {
   "cell_type": "code",
   "execution_count": null,
   "id": "61f47dbd",
   "metadata": {},
   "outputs": [],
   "source": [
    "full_conditional_mean_nn.predict(inputs=observations, pred_name='obs_cond_mean')"
   ]
  },
  {
   "cell_type": "code",
   "execution_count": null,
   "id": "144f0163",
   "metadata": {},
   "outputs": [],
   "source": [
    "observations.close()"
   ]
  },
  {
   "cell_type": "markdown",
   "id": "3e6063f1",
   "metadata": {
    "jp-MarkdownHeadingCollapsed": true,
    "tags": []
   },
   "source": [
    "#### OBSERVATIONS CONDITIONAL VARIANCE"
   ]
  },
  {
   "cell_type": "code",
   "execution_count": 12,
   "id": "79d7947c",
   "metadata": {},
   "outputs": [
    {
     "data": {
      "text/html": [
       "\n",
       "    <div>\n",
       "        <style>\n",
       "            /* Turns off some styling */\n",
       "            progress {\n",
       "                /* gets rid of default border in Firefox and Opera. */\n",
       "                border: none;\n",
       "                /* Needs to be in here for Safari polyfill so background images work as expected. */\n",
       "                background-size: auto;\n",
       "            }\n",
       "            .progress-bar-interrupted, .progress-bar-interrupted::-webkit-progress-bar {\n",
       "                background: #F44336;\n",
       "            }\n",
       "        </style>\n",
       "      <progress value='18' class='' max='18', style='width:300px; height:20px; vertical-align: middle;'></progress>\n",
       "      100.00% [18/18 53:45<00:00]\n",
       "    </div>\n",
       "    "
      ],
      "text/plain": [
       "<IPython.core.display.HTML object>"
      ]
     },
     "metadata": {},
     "output_type": "display_data"
    }
   ],
   "source": [
    "full_conditional_var_nn.predict(inputs=observations, pred_name='obs_cond_var')"
   ]
  },
  {
   "cell_type": "code",
   "execution_count": 13,
   "id": "6c1e5222",
   "metadata": {},
   "outputs": [],
   "source": [
    "observations.close()"
   ]
  },
  {
   "cell_type": "markdown",
   "id": "3628f9ea",
   "metadata": {
    "jp-MarkdownHeadingCollapsed": true,
    "tags": []
   },
   "source": [
    "#### VALIDATION CONDITIONAL MEAN"
   ]
  },
  {
   "cell_type": "code",
   "execution_count": 14,
   "id": "51891e5f",
   "metadata": {
    "tags": []
   },
   "outputs": [],
   "source": [
    "validation_data = FoldYielder('./data/validation.hdf5')"
   ]
  },
  {
   "cell_type": "code",
   "execution_count": 15,
   "id": "331226d6",
   "metadata": {},
   "outputs": [
    {
     "data": {
      "text/html": [
       "\n",
       "    <div>\n",
       "        <style>\n",
       "            /* Turns off some styling */\n",
       "            progress {\n",
       "                /* gets rid of default border in Firefox and Opera. */\n",
       "                border: none;\n",
       "                /* Needs to be in here for Safari polyfill so background images work as expected. */\n",
       "                background-size: auto;\n",
       "            }\n",
       "            .progress-bar-interrupted, .progress-bar-interrupted::-webkit-progress-bar {\n",
       "                background: #F44336;\n",
       "            }\n",
       "        </style>\n",
       "      <progress value='1' class='' max='1', style='width:300px; height:20px; vertical-align: middle;'></progress>\n",
       "      100.00% [1/1 03:21<00:00]\n",
       "    </div>\n",
       "    "
      ],
      "text/plain": [
       "<IPython.core.display.HTML object>"
      ]
     },
     "metadata": {},
     "output_type": "display_data"
    }
   ],
   "source": [
    "cond_mean_val = full_conditional_mean_nn_mse_noweight.predict(inputs=validation_data, pred_name='val_cond_mean')"
   ]
  },
  {
   "cell_type": "markdown",
   "id": "9494c7c0",
   "metadata": {
    "jp-MarkdownHeadingCollapsed": true,
    "tags": []
   },
   "source": [
    "#### VALIDATION CONDITIONAL VARIANCE"
   ]
  },
  {
   "cell_type": "markdown",
   "id": "b74b1832-8c40-4708-9cee-3b6345d1e7c5",
   "metadata": {
    "jp-MarkdownHeadingCollapsed": true,
    "tags": []
   },
   "source": [
    "##### ReLU"
   ]
  },
  {
   "cell_type": "code",
   "execution_count": 11,
   "id": "a657b662",
   "metadata": {},
   "outputs": [
    {
     "data": {
      "text/html": [
       "\n",
       "    <div>\n",
       "        <style>\n",
       "            /* Turns off some styling */\n",
       "            progress {\n",
       "                /* gets rid of default border in Firefox and Opera. */\n",
       "                border: none;\n",
       "                /* Needs to be in here for Safari polyfill so background images work as expected. */\n",
       "                background-size: auto;\n",
       "            }\n",
       "            .progress-bar-interrupted, .progress-bar-interrupted::-webkit-progress-bar {\n",
       "                background: #F44336;\n",
       "            }\n",
       "        </style>\n",
       "      <progress value='1' class='' max='1', style='width:300px; height:20px; vertical-align: middle;'></progress>\n",
       "      100.00% [1/1 03:09<00:00]\n",
       "    </div>\n",
       "    "
      ],
      "text/plain": [
       "<IPython.core.display.HTML object>"
      ]
     },
     "metadata": {},
     "output_type": "display_data"
    }
   ],
   "source": [
    "cond_var_val = full_conditional_var_nn.predict(inputs=validation_data, pred_name='val_cond_var')"
   ]
  },
  {
   "cell_type": "code",
   "execution_count": 12,
   "id": "76161afb",
   "metadata": {},
   "outputs": [],
   "source": [
    "validation_data.close()"
   ]
  },
  {
   "cell_type": "markdown",
   "id": "8ecfb5c5-8ac6-4bcc-9489-80285b433104",
   "metadata": {
    "jp-MarkdownHeadingCollapsed": true,
    "tags": []
   },
   "source": [
    "##### Linear"
   ]
  },
  {
   "cell_type": "code",
   "execution_count": 16,
   "id": "ace5d2c0-464c-4ef3-8f62-03efe532442d",
   "metadata": {},
   "outputs": [
    {
     "data": {
      "text/html": [
       "\n",
       "    <div>\n",
       "        <style>\n",
       "            /* Turns off some styling */\n",
       "            progress {\n",
       "                /* gets rid of default border in Firefox and Opera. */\n",
       "                border: none;\n",
       "                /* Needs to be in here for Safari polyfill so background images work as expected. */\n",
       "                background-size: auto;\n",
       "            }\n",
       "            .progress-bar-interrupted, .progress-bar-interrupted::-webkit-progress-bar {\n",
       "                background: #F44336;\n",
       "            }\n",
       "        </style>\n",
       "      <progress value='1' class='' max='1', style='width:300px; height:20px; vertical-align: middle;'></progress>\n",
       "      100.00% [1/1 03:09<00:00]\n",
       "    </div>\n",
       "    "
      ],
      "text/plain": [
       "<IPython.core.display.HTML object>"
      ]
     },
     "metadata": {},
     "output_type": "display_data"
    }
   ],
   "source": [
    "cond_var_val = full_conditional_var_nn_mse_out_lin_meanMSEnoW.predict(inputs=validation_data, pred_name='val_cond_var')"
   ]
  },
  {
   "cell_type": "code",
   "execution_count": 11,
   "id": "d39f7421-8a1a-4318-b945-416c2a1ba7b4",
   "metadata": {},
   "outputs": [],
   "source": [
    "validation_data.close()"
   ]
  },
  {
   "cell_type": "markdown",
   "id": "c38cd778-6a7e-4cbd-99b6-0b4f4599a2db",
   "metadata": {
    "jp-MarkdownHeadingCollapsed": true,
    "tags": []
   },
   "source": [
    "##### Linear - Dropout=0.5"
   ]
  },
  {
   "cell_type": "code",
   "execution_count": 14,
   "id": "c0917905-a63f-4b8a-acd8-665136cbd431",
   "metadata": {},
   "outputs": [
    {
     "data": {
      "text/html": [
       "\n",
       "    <div>\n",
       "        <style>\n",
       "            /* Turns off some styling */\n",
       "            progress {\n",
       "                /* gets rid of default border in Firefox and Opera. */\n",
       "                border: none;\n",
       "                /* Needs to be in here for Safari polyfill so background images work as expected. */\n",
       "                background-size: auto;\n",
       "            }\n",
       "            .progress-bar-interrupted, .progress-bar-interrupted::-webkit-progress-bar {\n",
       "                background: #F44336;\n",
       "            }\n",
       "        </style>\n",
       "      <progress value='1' class='' max='1', style='width:300px; height:20px; vertical-align: middle;'></progress>\n",
       "      100.00% [1/1 03:08<00:00]\n",
       "    </div>\n",
       "    "
      ],
      "text/plain": [
       "<IPython.core.display.HTML object>"
      ]
     },
     "metadata": {},
     "output_type": "display_data"
    }
   ],
   "source": [
    "cond_var_val = full_conditional_var_nn_lin_do.predict(inputs=validation_data, pred_name='val_cond_var')"
   ]
  },
  {
   "cell_type": "code",
   "execution_count": 15,
   "id": "934260ab-6a8b-428b-bfd8-59931f8b1a80",
   "metadata": {},
   "outputs": [],
   "source": [
    "validation_data.close()"
   ]
  },
  {
   "cell_type": "code",
   "execution_count": null,
   "id": "56aa75f4",
   "metadata": {},
   "outputs": [],
   "source": [
    "full_conditional_var_nn_lin_do"
   ]
  }
 ],
 "metadata": {
  "kernelspec": {
   "display_name": "Python 3 (ipykernel)",
   "language": "python",
   "name": "python3"
  },
  "language_info": {
   "codemirror_mode": {
    "name": "ipython",
    "version": 3
   },
   "file_extension": ".py",
   "mimetype": "text/x-python",
   "name": "python",
   "nbconvert_exporter": "python",
   "pygments_lexer": "ipython3",
   "version": "3.9.7"
  }
 },
 "nbformat": 4,
 "nbformat_minor": 5
}
